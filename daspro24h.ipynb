{
 "cells": [
  {
   "cell_type": "code",
   "execution_count": 5,
   "id": "09f1481b",
   "metadata": {},
   "outputs": [
    {
     "name": "stdout",
     "output_type": "stream",
     "text": [
      "Nama : Tedi\n",
      "Alamat : JL. Cisaat\n",
      "Umur : 23\n",
      "Nilai pemrograman : (85, 7)\n",
      "Status menikah : False\n",
      "provinsi : 7413412\n"
     ]
    }
   ],
   "source": [
    "name = \"Tedi\"\n",
    "addres,province = \"JL. Cisaat\",\"7413412\"\n",
    "age = \"23\"\n",
    "scorePython = 85,7\n",
    "isMarried = False\n",
    "print(\"Nama :\",name)\n",
    "print(\"Alamat :\",addres)\n",
    "print(\"Umur :\",age)\n",
    "print(\"Nilai pemrograman :\",scorePython)\n",
    "print(\"Status menikah :\",isMarried)\n",
    "print(\"provinsi :\",province)"
   ]
  },
  {
   "cell_type": "code",
   "execution_count": 4,
   "id": "3632baaf",
   "metadata": {},
   "outputs": [
    {
     "name": "stdout",
     "output_type": "stream",
     "text": [
      "Tipe data <name>: <class 'str'>\n",
      "Tipe data <addres>: <class 'str'>\n",
      "Tipe data <age>: <class 'str'>\n",
      "Tipe data <scorePython>: <class 'tuple'>\n",
      "Tipe data <isMarried>: <class 'bool'>\n"
     ]
    }
   ],
   "source": [
    "print(\"Tipe data <name>:\",type(name))\n",
    "print(\"Tipe data <addres>:\",type(addres))\n",
    "print(\"Tipe data <age>:\",type(age))\n",
    "print(\"Tipe data <scorePython>:\",type(scorePython))\n",
    "print(\"Tipe data <isMarried>:\",type(isMarried))"
   ]
  },
  {
   "cell_type": "code",
   "execution_count": 39,
   "id": "ca886573",
   "metadata": {},
   "outputs": [
    {
     "name": "stdout",
     "output_type": "stream",
     "text": [
      "7413414-7413412.0-True\n",
      "23-23.0-True\n"
     ]
    },
    {
     "ename": "TypeError",
     "evalue": "int() argument must be a string, a bytes-like object or a number, not 'tuple'",
     "output_type": "error",
     "traceback": [
      "\u001b[1;31m---------------------------------------------------------------------------\u001b[0m",
      "\u001b[1;31mTypeError\u001b[0m                                 Traceback (most recent call last)",
      "Input \u001b[1;32mIn [39]\u001b[0m, in \u001b[0;36m<cell line: 14>\u001b[1;34m()\u001b[0m\n\u001b[0;32m     12\u001b[0m \u001b[38;5;66;03m#3. Float Ke (int,str,boolean)\u001b[39;00m\n\u001b[0;32m     13\u001b[0m floatToStr \u001b[38;5;241m=\u001b[39m \u001b[38;5;28mstr\u001b[39m (scorePython)\n\u001b[1;32m---> 14\u001b[0m floatToInt \u001b[38;5;241m=\u001b[39m \u001b[38;5;28;43mint\u001b[39;49m\u001b[43m \u001b[49m\u001b[43m(\u001b[49m\u001b[43mscorePython\u001b[49m\u001b[43m)\u001b[49m\n\u001b[0;32m     15\u001b[0m floatToBool \u001b[38;5;241m=\u001b[39m \u001b[38;5;28mbool\u001b[39m (scorePython)\n\u001b[0;32m     16\u001b[0m \u001b[38;5;28mprint\u001b[39m(floatTostr,floatToInt,floatToBool, sep\u001b[38;5;241m=\u001b[39m\u001b[38;5;124m\"\u001b[39m\u001b[38;5;124m-\u001b[39m\u001b[38;5;124m\"\u001b[39m)\n",
      "\u001b[1;31mTypeError\u001b[0m: int() argument must be a string, a bytes-like object or a number, not 'tuple'"
     ]
    }
   ],
   "source": [
    "#Casting / Konversi Tipe Data\n",
    "#1. String Ke (int,float,boolean)\n",
    "strToInt = int(province)\n",
    "strToFloat = float(province)\n",
    "strToBool = bool(province)\n",
    "print(strToInt + 2, strToFloat,strToBool, sep=\"-\")\n",
    "#2. Int Ke (str,Float,boolean)\n",
    "intTostr = str (age)\n",
    "intToFloat = float(age)\n",
    "intToBool = bool(age)\n",
    "print(intTostr,intToFloat,intToBool, sep=\"-\")\n",
    "#3. Float Ke (int,str,boolean)\n",
    "floatToStr = str (scorePython)\n",
    "floatToInt = int (scorePython)\n",
    "floatToBool = bool (scorePython)\n",
    "print(floatTostr,floatToInt,floatToBool, sep=\"-\")"
   ]
  },
  {
   "cell_type": "code",
   "execution_count": 10,
   "id": "00b3a049",
   "metadata": {},
   "outputs": [
    {
     "name": "stdout",
     "output_type": "stream",
     "text": [
      "Nilai desimal : 500\n",
      "Nilai biner : 10\n",
      "Nilai octal : 255\n",
      "Nilai hexa : 255\n",
      "Nilai biner dari  500 : 0b111110100\n",
      "Nilai octal dari  500 : 0o377\n",
      "Nilai hexa dari  500 : 0xff\n"
     ]
    }
   ],
   "source": [
    "desimal = 500\n",
    "biner = 0b1010 #10\n",
    "octal = 0o377 #255\n",
    "hexa = 0xff #255\n",
    "\n",
    "print(\"Nilai desimal :\",desimal)\n",
    "print(\"Nilai biner :\",biner)\n",
    "print(\"Nilai octal :\",octal)\n",
    "print(\"Nilai hexa :\",hexa)\n",
    "\n",
    "print(\"Nilai biner dari \",desimal, \":\",bin(desimal))\n",
    "print(\"Nilai octal dari \",desimal, \":\",oct(octal))\n",
    "print(\"Nilai hexa dari \",desimal, \":\",hex(hexa))"
   ]
  },
  {
   "cell_type": "code",
   "execution_count": 11,
   "id": "6357e58f",
   "metadata": {},
   "outputs": [
    {
     "name": "stdout",
     "output_type": "stream",
     "text": [
      "d\n",
      "13\n",
      "g\n"
     ]
    }
   ],
   "source": [
    "city = \"dbjdbgjgnjjbg\"\n",
    "length = len(city)\n",
    "print(city[0])\n",
    "print(length)\n",
    "print(city[length-1])"
   ]
  },
  {
   "cell_type": "code",
   "execution_count": 48,
   "id": "42351752",
   "metadata": {},
   "outputs": [
    {
     "name": "stdout",
     "output_type": "stream",
     "text": [
      "['raja', 'baldan', 'ahmet']\n",
      "raja\n",
      "ahmet\n",
      "a\n",
      "t\n",
      "('aku', 'saya', 'beta')\n",
      "beta\n",
      "({'name': 'robi', 'age': 30, 'addres': {'street': 'cisaat', 'number': 32, 'province': 'bermuda'}, 'isMarried': True, 'hobbies': ['futsal', 'basket ball']},)\n"
     ]
    },
    {
     "ename": "TypeError",
     "evalue": "tuple indices must be integers or slices, not str",
     "output_type": "error",
     "traceback": [
      "\u001b[1;31m---------------------------------------------------------------------------\u001b[0m",
      "\u001b[1;31mTypeError\u001b[0m                                 Traceback (most recent call last)",
      "Input \u001b[1;32mIn [48]\u001b[0m, in \u001b[0;36m<cell line: 29>\u001b[1;34m()\u001b[0m\n\u001b[0;32m     17\u001b[0m studentData \u001b[38;5;241m=\u001b[39m {\n\u001b[0;32m     18\u001b[0m     \u001b[38;5;124m\"\u001b[39m\u001b[38;5;124mname\u001b[39m\u001b[38;5;124m\"\u001b[39m : \u001b[38;5;124m\"\u001b[39m\u001b[38;5;124mrobi\u001b[39m\u001b[38;5;124m\"\u001b[39m,\n\u001b[0;32m     19\u001b[0m     \u001b[38;5;124m\"\u001b[39m\u001b[38;5;124mage\u001b[39m\u001b[38;5;124m\"\u001b[39m : \u001b[38;5;241m30\u001b[39m,\n\u001b[1;32m   (...)\u001b[0m\n\u001b[0;32m     26\u001b[0m     \u001b[38;5;124m\"\u001b[39m\u001b[38;5;124mhobbies\u001b[39m\u001b[38;5;124m\"\u001b[39m : [\u001b[38;5;124m\"\u001b[39m\u001b[38;5;124mfutsal\u001b[39m\u001b[38;5;124m\"\u001b[39m,\u001b[38;5;124m\"\u001b[39m\u001b[38;5;124mbasket ball\u001b[39m\u001b[38;5;124m\"\u001b[39m]\n\u001b[0;32m     27\u001b[0m },\n\u001b[0;32m     28\u001b[0m \u001b[38;5;28mprint\u001b[39m(studentData)\n\u001b[1;32m---> 29\u001b[0m \u001b[38;5;28mprint\u001b[39m(\u001b[43mstudentData\u001b[49m\u001b[43m[\u001b[49m\u001b[38;5;124;43m\"\u001b[39;49m\u001b[38;5;124;43mage\u001b[39;49m\u001b[38;5;124;43m\"\u001b[39;49m\u001b[43m]\u001b[49m)\n\u001b[0;32m     30\u001b[0m \u001b[38;5;28mprint\u001b[39m(studentData[\u001b[38;5;124m\"\u001b[39m\u001b[38;5;124maddres\u001b[39m\u001b[38;5;124m\"\u001b[39m][\u001b[38;5;124m\"\u001b[39m\u001b[38;5;124mprovince\u001b[39m\u001b[38;5;124m\"\u001b[39m])\n\u001b[0;32m     31\u001b[0m \u001b[38;5;28mprint\u001b[39m(studentData[\u001b[38;5;124m\"\u001b[39m\u001b[38;5;124mhobbies\u001b[39m\u001b[38;5;124m\"\u001b[39m][\u001b[38;5;241m1\u001b[39m])\n",
      "\u001b[1;31mTypeError\u001b[0m: tuple indices must be integers or slices, not str"
     ]
    }
   ],
   "source": [
    "#Tipe data Coollection\n",
    "cities = [\"raja\",\"baldan\",\"ahmet\"]\n",
    "lengthCities = len(cities)\n",
    "print(cities)\n",
    "print(cities[0])\n",
    "print(cities[lengthCities-1])\n",
    "print(cities[lengthCities-1] [0])\n",
    "print(cities[lengthCities-1] [len(cities[lengthCities-1])-1])\n",
    "\n",
    "#cities\n",
    "names = (\"aku\",\"saya\",\"beta\")\n",
    "print(names)\n",
    "print(names[2])\n",
    "\n",
    "\n",
    "#data\n",
    "studentData = {\n",
    "    \"name\" : \"robi\",\n",
    "    \"age\" : 30,\n",
    "    \"addres\" : {\n",
    "        \"street\" : \"cisaat\",\n",
    "        \"number\" : 32,\n",
    "        \"province\" : \"bermuda\"\n",
    "    },\n",
    "    \"isMarried\" : True,\n",
    "    \"hobbies\" : [\"futsal\",\"basket ball\"]\n",
    "},\n",
    "print(studentData)\n",
    "print(studentData[\"age\"])\n",
    "print(studentData[\"addres\"][\"province\"])\n",
    "print(studentData[\"hobbies\"][1])"
   ]
  },
  {
   "cell_type": "code",
   "execution_count": 37,
   "id": "0fe543b9",
   "metadata": {},
   "outputs": [
    {
     "name": "stdout",
     "output_type": "stream",
     "text": [
      "{'name': 'andi', 'age': 30, 'status': True}\n",
      "{'name': 'rudy', 'addres': 'bogor'}\n",
      "{'name': 'tiger', 'type': 'badut'}\n",
      "{'name': 'crocodile', 'type': 'reptile'}\n"
     ]
    }
   ],
   "source": [
    "#Konfersi dictionary\n",
    "\n",
    "list_list = [[\"name\",\"andi\"],[\"age\",30],[\"status\",True]]\n",
    "dictListStudent = dict(list_list)\n",
    "print(dictListStudent)\n",
    "\n",
    "list_tuple = [(\"name\",\"rudy\"),(\"addres\",\"bogor\")]\n",
    "dictListStudent = dict(list_tuple)\n",
    "print(dictListStudent)\n",
    "\n",
    "tuple_list = ([\"name\",\"tiger\"],[\"type\",\"badut\"])\n",
    "dictListAnimal = dict(tuple_list)\n",
    "print(dictListAnimal)\n",
    "\n",
    "tuple_list = ([\"name\",\"crocodile\"],[\"type\",\"reptile\"])\n",
    "dictListAnimal = dict(tuple_list)\n",
    "print(dictListAnimal)\n",
    "\n",
    "keys = [\"Vehicle\",\"\"]\n"
   ]
  },
  {
   "cell_type": "code",
   "execution_count": null,
   "id": "aa449619",
   "metadata": {},
   "outputs": [],
   "source": []
  }
 ],
 "metadata": {
  "kernelspec": {
   "display_name": "Python 3 (ipykernel)",
   "language": "python",
   "name": "python3"
  },
  "language_info": {
   "codemirror_mode": {
    "name": "ipython",
    "version": 3
   },
   "file_extension": ".py",
   "mimetype": "text/x-python",
   "name": "python",
   "nbconvert_exporter": "python",
   "pygments_lexer": "ipython3",
   "version": "3.9.12"
  }
 },
 "nbformat": 4,
 "nbformat_minor": 5
}
