{
 "cells": [
  {
   "cell_type": "markdown",
   "id": "32fd1289-7099-4d51-813b-f7ecc2956482",
   "metadata": {},
   "source": [
    "<h1>Biodata</h1>"
   ]
  },
  {
   "cell_type": "code",
   "execution_count": 2,
   "id": "acd012b4-db4a-4257-aca0-804314de08ec",
   "metadata": {},
   "outputs": [
    {
     "name": "stdin",
     "output_type": "stream",
     "text": [
      "Masukkan Nama Lengkap Anda:  Reza Alfian Maba\n",
      "Masukkan TTL Anda (Tempat, Tanggal Lahir):  Sesar, 30-08-2006\n",
      "Masukkan Alamat Anda:  Gang Bakti\n",
      "Masukkan Jenis Kelamin Anda (Laki-laki/Perempuan):  Laki-Laki\n",
      "Masukkan Agama Anda:  Islam\n"
     ]
    },
    {
     "name": "stdout",
     "output_type": "stream",
     "text": [
      "\n",
      "=== Informasi Pengguna ===\n",
      "Nama Lengkap     : Reza Alfian Maba\n",
      "TTL              : Sesar, 30-08-2006\n",
      "Alamat           : Gang Bakti\n",
      "Jenis Kelamin    : Laki-Laki\n",
      "Agama            : Islam\n"
     ]
    }
   ],
   "source": [
    "# Mengumpulkan informasi pengguna\n",
    "NamaLengkap = input(\"Masukkan Nama Lengkap Anda: \")\n",
    "TTL = input(\"Masukkan TTL Anda (Tempat, Tanggal Lahir): \")\n",
    "Alamat = input(\"Masukkan Alamat Anda: \")\n",
    "JenisKelamin = input(\"Masukkan Jenis Kelamin Anda (Laki-laki/Perempuan): \")\n",
    "Agama = input(\"Masukkan Agama Anda: \")\n",
    "\n",
    "# Menampilkan informasi pengguna\n",
    "print(\"\\n=== Informasi Pengguna ===\")\n",
    "print(\"Nama Lengkap     : {}\".format(NamaLengkap))\n",
    "print(\"TTL              : {}\".format(TTL))\n",
    "print(\"Alamat           : {}\".format(Alamat))\n",
    "print(\"Jenis Kelamin    : {}\".format(JenisKelamin))\n",
    "print(\"Agama            : {}\".format(Agama))"
   ]
  },
  {
   "cell_type": "markdown",
   "id": "c759a94c-a597-4bc1-9c3c-15fbd0124a9a",
   "metadata": {},
   "source": [
    "<h1>Kalimat</h1>"
   ]
  },
  {
   "cell_type": "code",
   "execution_count": 5,
   "id": "d1ab5e04-b091-4817-9391-ef76729bec7c",
   "metadata": {},
   "outputs": [
    {
     "name": "stdin",
     "output_type": "stream",
     "text": [
      "Masukkan Kalimat: UNIVERSITAS NUSA PUTRA SUKABUMI\n"
     ]
    },
    {
     "name": "stdout",
     "output_type": "stream",
     "text": [
      "a. putra nusa\n",
      "b. NIVERSITAS NSA PTRA SKABMI\n",
      "c. SUKABUMI PUTRA NUSA UNIVERSITAS\n",
      "d. UNPS\n",
      "e. TAS SAPU BUMI\n"
     ]
    }
   ],
   "source": [
    "#UNIVERSITAS NUSA PUTRA SUKABUMI\n",
    "teks = input(\"Masukkan Kalimat:\")\n",
    "kata = teks.split()\n",
    "\n",
    "# a. putra nusa\n",
    "Output_a = \"{} {}\".format(kata[2].lower(), kata[1].lower())\n",
    "print(\"a.\", Output_a)\n",
    "\n",
    "# b. NIVERSITAS NSA PTRA SKABMI\n",
    "Output_b = \"{} {}{} {}{} {}{}{}\".format(teks[1:11], teks[12],teks[14:16], teks[17],teks[19:22], teks[23],teks[25:28],teks[29:])\n",
    "print(\"b.\", Output_b)\n",
    "\n",
    "# c. SUKABUMI PUTRA NUSA UNIVERSITAS\n",
    "Output_c = \"{} {} {} {}\".format(kata[3], kata[2], kata[1], kata[0])\n",
    "print(\"c.\", Output_c)\n",
    "\n",
    "# d. UNPS\n",
    "Output_d = \"{}{}{}{}\".format(teks[0], teks[12], teks[17], teks[23])\n",
    "print(\"d.\", Output_d)\n",
    "\n",
    "# e. TAS SAPU BUMI\n",
    "Output_e = \"{} {}{} {}\".format(teks[8:11], teks[14:16], teks[17:19], teks[27:])\n",
    "print(\"e.\", Output_e)"
   ]
  },
  {
   "cell_type": "code",
   "execution_count": null,
   "id": "b2a3a475-1cc4-4154-9c3f-4fa9d9684dc2",
   "metadata": {},
   "outputs": [],
   "source": []
  }
 ],
 "metadata": {
  "kernelspec": {
   "display_name": "Python [conda env:base] *",
   "language": "python",
   "name": "conda-base-py"
  },
  "language_info": {
   "codemirror_mode": {
    "name": "ipython",
    "version": 3
   },
   "file_extension": ".py",
   "mimetype": "text/x-python",
   "name": "python",
   "nbconvert_exporter": "python",
   "pygments_lexer": "ipython3",
   "version": "3.12.7"
  }
 },
 "nbformat": 4,
 "nbformat_minor": 5
}
