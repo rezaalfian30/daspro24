{
 "cells": [
  {
   "cell_type": "markdown",
   "id": "08207624",
   "metadata": {},
   "source": [
    "<<center><img src=\"https://play.google.com/store/apps/details?id=com.spartan.apps.esportlogomaker&hl=id\" width=\"200\"></center><br> pada jupyter notebooks jenis <b>cell</b> terbagi menjadi</ol> \n",
    "   <li>m (Marck Down) -> y</li>\n",
    "   <li>y (Code) -> y</li>\n",
    "</ol>\n",
    "<hr>\n"
   ]
  },
  {
   "cell_type": "markdown",
   "id": "80832e80",
   "metadata": {},
   "source": [
    "cara menambahkan <b>cell</b>  terbagi menjadi 2:\n",
    "<ul>\n",
    "    <li>A -(Above) menambah diatas cell aktif </li>\n",
    "    <li>B -(Below) menambah diatas cell aktif </li>\n",
    "</ul>\n",
    "\n",
    "<table> \n",
    "    <tr>\n",
    "        <td>Perintah</td>\n",
    "        <td>Keterangan</td>\n",
    "    </tr>\n",
    "    <tr>\n",
    "        <td>ctrl + enter</td>\n",
    "        <td>Running program dengan fokus di cell aktif</td>\n",
    "    </tr>\n",
    "    <tr>\n",
    "        <td> shift + enter</td>\n",
    "        <td> Running program dengan fokus di cell berikutnya</td>\n",
    "    </tr>\n",
    "    \n",
    " </table>"
   ]
  },
  {
   "cell_type": "markdown",
   "id": "2e627946",
   "metadata": {},
   "source": []
  },
  {
   "cell_type": "code",
   "execution_count": 23,
   "id": "24b93a08",
   "metadata": {},
   "outputs": [
    {
     "name": "stdout",
     "output_type": "stream",
     "text": [
      "pyton is very easy\n",
      "4\n",
      "reza ganteng\n"
     ]
    }
   ],
   "source": [
    "# this is coment\n",
    "print(\"pyton is very easy\")\n",
    "data = \"4\"\n",
    "print(data)\n",
    "data\n",
    "print(\"reza ganteng\")\n"
   ]
  },
  {
   "cell_type": "code",
   "execution_count": null,
   "id": "5466c3a8",
   "metadata": {},
   "outputs": [],
   "source": []
  }
 ],
 "metadata": {
  "kernelspec": {
   "display_name": "Python 3 (ipykernel)",
   "language": "python",
   "name": "python3"
  },
  "language_info": {
   "codemirror_mode": {
    "name": "ipython",
    "version": 3
   },
   "file_extension": ".py",
   "mimetype": "text/x-python",
   "name": "python",
   "nbconvert_exporter": "python",
   "pygments_lexer": "ipython3",
   "version": "3.9.12"
  }
 },
 "nbformat": 4,
 "nbformat_minor": 5
}
